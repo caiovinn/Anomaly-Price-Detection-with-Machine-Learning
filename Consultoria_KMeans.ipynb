{
 "cells": [
  {
   "cell_type": "markdown",
   "id": "2fbd0b8b",
   "metadata": {},
   "source": [
    "# Times Series of Anomaly Price Detection"
   ]
  },
  {
   "cell_type": "markdown",
   "id": "0e5973ed",
   "metadata": {},
   "source": [
    "## Importações"
   ]
  },
  {
   "cell_type": "code",
   "execution_count": 90,
   "id": "746d4bcc",
   "metadata": {},
   "outputs": [],
   "source": [
    "import pandas as pd\n",
    "import numpy as np\n",
    "import plotly.express as px\n",
    "import datetime\n",
    "from sklearn.cluster import KMeans\n",
    "from matplotlib import pyplot as plt\n",
    "import matplotlib.cm as cm\n",
    "from matplotlib.pyplot import figure\n",
    "\n",
    "# mostrar todas linhas e colunas\n",
    "pd.set_option(\"display.max_rows\", None, \"display.max_columns\", None)\n",
    "\n",
    "import warnings\n",
    "warnings.filterwarnings('ignore')"
   ]
  },
  {
   "cell_type": "markdown",
   "id": "b8d1e426",
   "metadata": {},
   "source": [
    "# 1) Leitura dos dados"
   ]
  },
  {
   "cell_type": "code",
   "execution_count": 2,
   "id": "0fa6d4fc",
   "metadata": {},
   "outputs": [],
   "source": [
    "df = pd.read_csv(\"https://raw.githubusercontent.com/nel-milton/Consultoria_Estatistica/main/dados_DeteccaoAnomalias.csv\", sep = \";\", index_col = 0, decimal = \",\")"
   ]
  },
  {
   "cell_type": "markdown",
   "id": "31f02fbc",
   "metadata": {},
   "source": [
    "## 2) Descrição dos dados\n",
    "\n",
    "Uma tabela simples contento algumas estatísticas sobre as variáveis numéricas\n",
    "\n",
    "Aparentemente, os maiores valores da distribuição estão muito distantes dos quantis intervalares"
   ]
  },
  {
   "cell_type": "code",
   "execution_count": 3,
   "id": "ae4f1dea",
   "metadata": {},
   "outputs": [
    {
     "name": "stdout",
     "output_type": "stream",
     "text": [
      "       qtde_itens_vendidos  preco_venda_item\n",
      "count        131921.000000     131921.000000\n",
      "mean              1.198710        209.072635\n",
      "std               0.845551        202.579897\n",
      "min               1.000000        100.386021\n",
      "25%               1.000000        124.571776\n",
      "50%               1.000000        157.906881\n",
      "75%               1.000000        200.349379\n",
      "max              10.000000       1201.799325\n"
     ]
    },
    {
     "data": {
      "text/html": [
       "<div>\n",
       "<style scoped>\n",
       "    .dataframe tbody tr th:only-of-type {\n",
       "        vertical-align: middle;\n",
       "    }\n",
       "\n",
       "    .dataframe tbody tr th {\n",
       "        vertical-align: top;\n",
       "    }\n",
       "\n",
       "    .dataframe thead th {\n",
       "        text-align: right;\n",
       "    }\n",
       "</style>\n",
       "<table border=\"1\" class=\"dataframe\">\n",
       "  <thead>\n",
       "    <tr style=\"text-align: right;\">\n",
       "      <th></th>\n",
       "      <th>id_seller</th>\n",
       "      <th>data_inclusao_item</th>\n",
       "      <th>data_aprovacao_pedido</th>\n",
       "      <th>qtde_itens_vendidos</th>\n",
       "      <th>preco_venda_item</th>\n",
       "      <th>hora_inclusao</th>\n",
       "      <th>hora_aprovacao</th>\n",
       "    </tr>\n",
       "  </thead>\n",
       "  <tbody>\n",
       "    <tr>\n",
       "      <th>1</th>\n",
       "      <td>vendedor2</td>\n",
       "      <td>2021-07-16</td>\n",
       "      <td>2021-01-16</td>\n",
       "      <td>1</td>\n",
       "      <td>103.491893</td>\n",
       "      <td>15:25:53</td>\n",
       "      <td>17:03:00</td>\n",
       "    </tr>\n",
       "    <tr>\n",
       "      <th>2</th>\n",
       "      <td>vendedor2</td>\n",
       "      <td>2021-07-16</td>\n",
       "      <td>2021-01-16</td>\n",
       "      <td>1</td>\n",
       "      <td>103.516297</td>\n",
       "      <td>14:52:11</td>\n",
       "      <td>17:03:00</td>\n",
       "    </tr>\n",
       "    <tr>\n",
       "      <th>3</th>\n",
       "      <td>vendedor2</td>\n",
       "      <td>2021-07-16</td>\n",
       "      <td>2021-01-16</td>\n",
       "      <td>1</td>\n",
       "      <td>104.070149</td>\n",
       "      <td>14:33:30</td>\n",
       "      <td>17:03:00</td>\n",
       "    </tr>\n",
       "    <tr>\n",
       "      <th>4</th>\n",
       "      <td>vendedor2</td>\n",
       "      <td>2021-07-16</td>\n",
       "      <td>2021-01-16</td>\n",
       "      <td>1</td>\n",
       "      <td>103.337421</td>\n",
       "      <td>15:44:41</td>\n",
       "      <td>17:03:00</td>\n",
       "    </tr>\n",
       "    <tr>\n",
       "      <th>5</th>\n",
       "      <td>vendedor2</td>\n",
       "      <td>2016-12-08</td>\n",
       "      <td>2021-01-16</td>\n",
       "      <td>1</td>\n",
       "      <td>102.966221</td>\n",
       "      <td>13:00:36</td>\n",
       "      <td>17:03:00</td>\n",
       "    </tr>\n",
       "  </tbody>\n",
       "</table>\n",
       "</div>"
      ],
      "text/plain": [
       "   id_seller data_inclusao_item data_aprovacao_pedido  qtde_itens_vendidos  \\\n",
       "1  vendedor2         2021-07-16            2021-01-16                    1   \n",
       "2  vendedor2         2021-07-16            2021-01-16                    1   \n",
       "3  vendedor2         2021-07-16            2021-01-16                    1   \n",
       "4  vendedor2         2021-07-16            2021-01-16                    1   \n",
       "5  vendedor2         2016-12-08            2021-01-16                    1   \n",
       "\n",
       "   preco_venda_item hora_inclusao hora_aprovacao  \n",
       "1        103.491893      15:25:53       17:03:00  \n",
       "2        103.516297      14:52:11       17:03:00  \n",
       "3        104.070149      14:33:30       17:03:00  \n",
       "4        103.337421      15:44:41       17:03:00  \n",
       "5        102.966221      13:00:36       17:03:00  "
      ]
     },
     "execution_count": 3,
     "metadata": {},
     "output_type": "execute_result"
    }
   ],
   "source": [
    "#Análise descritiva\n",
    "print(df.describe())\n",
    "df.head()"
   ]
  },
  {
   "cell_type": "markdown",
   "id": "f03f01d5",
   "metadata": {},
   "source": [
    "## 2.1) Tratamento de Valores Faltantes\n",
    "\n",
    "Percebemos que existem valores faltantes em muitas datas na coluna \"data_aprovacao_pedido\", visto isso\n",
    "esses valores nulos serão excluídos do dataset para evitar inconsistências"
   ]
  },
  {
   "cell_type": "code",
   "execution_count": 6,
   "id": "43c3af34",
   "metadata": {},
   "outputs": [
    {
     "name": "stdout",
     "output_type": "stream",
     "text": [
      "id_seller                    0\n",
      "data_inclusao_item           0\n",
      "data_aprovacao_pedido    14025\n",
      "qtde_itens_vendidos          0\n",
      "preco_venda_item             0\n",
      "hora_inclusao                0\n",
      "hora_aprovacao           14025\n",
      "preco_unitario               0\n",
      "day_of_the_week              0\n",
      "dtype: int64\n"
     ]
    }
   ],
   "source": [
    "print(df.isnull().sum())\n",
    "#valores faltantes em algumas colunas, serão tratadas?"
   ]
  },
  {
   "cell_type": "code",
   "execution_count": 7,
   "id": "aca332fb",
   "metadata": {},
   "outputs": [],
   "source": [
    "df = df.dropna() #dropando valores numeros"
   ]
  },
  {
   "cell_type": "markdown",
   "id": "38fd4513",
   "metadata": {},
   "source": [
    "## 2.2) Preço Unitário\n",
    "\n",
    "Visto que existem produtos que possuem quantidade de itens superior a 1, o preço destacado entre eles não é equivalente\n",
    "ao preço do produto unitário, então iremos criar uma coluna que represente o valor único do produto"
   ]
  },
  {
   "cell_type": "code",
   "execution_count": 8,
   "id": "35b44b83",
   "metadata": {},
   "outputs": [],
   "source": [
    "#Analisando os dados com quantidade de itens diferente de 1\n",
    "\n",
    "df2 = df[df['qtde_itens_vendidos'] != 1]\n",
    "df2.head()\n",
    "\n",
    "#Visto que o preço de venda do produto não equivale ao produto unitário, iremos dividir o preço de venda \n",
    "#pela quantidade de itens vendidos\n",
    "\n",
    "df['preco_unitario'] = [preco/qtd for preco,qtd in zip(df['preco_venda_item'], df['qtde_itens_vendidos'])]\n",
    "df.head()\n",
    "\n",
    "#transformando para o formato datetime\n",
    "df['data_inclusao_item'] = pd.to_datetime(df['data_inclusao_item'], format=\"%Y-%m-%d\") \n",
    "\n",
    "#criando uma coluna para o dia da semana das vendas\n",
    "df['day_of_the_week'] = df['data_inclusao_item'].dt.day_name()"
   ]
  },
  {
   "cell_type": "markdown",
   "id": "217561fe",
   "metadata": {},
   "source": [
    "## Feriados e Mês"
   ]
  },
  {
   "cell_type": "code",
   "execution_count": 11,
   "id": "d4df9c30",
   "metadata": {},
   "outputs": [],
   "source": [
    "#!pip install holidays\n",
    "import holidays\n",
    "\n",
    "br_feriados = holidays.BR() \n",
    "br_feriados\n",
    "\n",
    "br_feriados = {datetime.date(2020, 11, 25): 'Black Friday',\n",
    "               datetime.date(2021, 11, 25): 'Black Friday',\n",
    "               datetime.date(2022, 11, 25): 'Black Friday'}\n",
    "for date in holidays.Brazil(years=[2020,2021,2022]).items():\n",
    "  br_feriados[date[0]] = date[1]\n",
    "\n",
    "\n",
    "br_feriados\n",
    "df['feriados'] = [br_feriados.get(i.date()) for i in df['data_inclusao_item']]"
   ]
  },
  {
   "cell_type": "code",
   "execution_count": 12,
   "id": "261500cb",
   "metadata": {},
   "outputs": [],
   "source": [
    "df['Month'] = df['data_inclusao_item'].dt.month"
   ]
  },
  {
   "cell_type": "code",
   "execution_count": 13,
   "id": "d9fb5aea",
   "metadata": {},
   "outputs": [
    {
     "data": {
      "text/html": [
       "<div>\n",
       "<style scoped>\n",
       "    .dataframe tbody tr th:only-of-type {\n",
       "        vertical-align: middle;\n",
       "    }\n",
       "\n",
       "    .dataframe tbody tr th {\n",
       "        vertical-align: top;\n",
       "    }\n",
       "\n",
       "    .dataframe thead th {\n",
       "        text-align: right;\n",
       "    }\n",
       "</style>\n",
       "<table border=\"1\" class=\"dataframe\">\n",
       "  <thead>\n",
       "    <tr style=\"text-align: right;\">\n",
       "      <th></th>\n",
       "      <th>id_seller</th>\n",
       "      <th>data_inclusao_item</th>\n",
       "      <th>data_aprovacao_pedido</th>\n",
       "      <th>qtde_itens_vendidos</th>\n",
       "      <th>preco_venda_item</th>\n",
       "      <th>hora_inclusao</th>\n",
       "      <th>hora_aprovacao</th>\n",
       "      <th>preco_unitario</th>\n",
       "      <th>day_of_the_week</th>\n",
       "      <th>feriados</th>\n",
       "      <th>Month</th>\n",
       "    </tr>\n",
       "  </thead>\n",
       "  <tbody>\n",
       "    <tr>\n",
       "      <th>1</th>\n",
       "      <td>vendedor2</td>\n",
       "      <td>2021-07-16</td>\n",
       "      <td>2021-01-16</td>\n",
       "      <td>1</td>\n",
       "      <td>103.491893</td>\n",
       "      <td>15:25:53</td>\n",
       "      <td>17:03:00</td>\n",
       "      <td>103.491893</td>\n",
       "      <td>Friday</td>\n",
       "      <td>None</td>\n",
       "      <td>7</td>\n",
       "    </tr>\n",
       "    <tr>\n",
       "      <th>2</th>\n",
       "      <td>vendedor2</td>\n",
       "      <td>2021-07-16</td>\n",
       "      <td>2021-01-16</td>\n",
       "      <td>1</td>\n",
       "      <td>103.516297</td>\n",
       "      <td>14:52:11</td>\n",
       "      <td>17:03:00</td>\n",
       "      <td>103.516297</td>\n",
       "      <td>Friday</td>\n",
       "      <td>None</td>\n",
       "      <td>7</td>\n",
       "    </tr>\n",
       "    <tr>\n",
       "      <th>3</th>\n",
       "      <td>vendedor2</td>\n",
       "      <td>2021-07-16</td>\n",
       "      <td>2021-01-16</td>\n",
       "      <td>1</td>\n",
       "      <td>104.070149</td>\n",
       "      <td>14:33:30</td>\n",
       "      <td>17:03:00</td>\n",
       "      <td>104.070149</td>\n",
       "      <td>Friday</td>\n",
       "      <td>None</td>\n",
       "      <td>7</td>\n",
       "    </tr>\n",
       "    <tr>\n",
       "      <th>4</th>\n",
       "      <td>vendedor2</td>\n",
       "      <td>2021-07-16</td>\n",
       "      <td>2021-01-16</td>\n",
       "      <td>1</td>\n",
       "      <td>103.337421</td>\n",
       "      <td>15:44:41</td>\n",
       "      <td>17:03:00</td>\n",
       "      <td>103.337421</td>\n",
       "      <td>Friday</td>\n",
       "      <td>None</td>\n",
       "      <td>7</td>\n",
       "    </tr>\n",
       "    <tr>\n",
       "      <th>5</th>\n",
       "      <td>vendedor2</td>\n",
       "      <td>2016-12-08</td>\n",
       "      <td>2021-01-16</td>\n",
       "      <td>1</td>\n",
       "      <td>102.966221</td>\n",
       "      <td>13:00:36</td>\n",
       "      <td>17:03:00</td>\n",
       "      <td>102.966221</td>\n",
       "      <td>Thursday</td>\n",
       "      <td>None</td>\n",
       "      <td>12</td>\n",
       "    </tr>\n",
       "  </tbody>\n",
       "</table>\n",
       "</div>"
      ],
      "text/plain": [
       "   id_seller data_inclusao_item data_aprovacao_pedido  qtde_itens_vendidos  \\\n",
       "1  vendedor2         2021-07-16            2021-01-16                    1   \n",
       "2  vendedor2         2021-07-16            2021-01-16                    1   \n",
       "3  vendedor2         2021-07-16            2021-01-16                    1   \n",
       "4  vendedor2         2021-07-16            2021-01-16                    1   \n",
       "5  vendedor2         2016-12-08            2021-01-16                    1   \n",
       "\n",
       "   preco_venda_item hora_inclusao hora_aprovacao  preco_unitario  \\\n",
       "1        103.491893      15:25:53       17:03:00      103.491893   \n",
       "2        103.516297      14:52:11       17:03:00      103.516297   \n",
       "3        104.070149      14:33:30       17:03:00      104.070149   \n",
       "4        103.337421      15:44:41       17:03:00      103.337421   \n",
       "5        102.966221      13:00:36       17:03:00      102.966221   \n",
       "\n",
       "  day_of_the_week feriados  Month  \n",
       "1          Friday     None      7  \n",
       "2          Friday     None      7  \n",
       "3          Friday     None      7  \n",
       "4          Friday     None      7  \n",
       "5        Thursday     None     12  "
      ]
     },
     "execution_count": 13,
     "metadata": {},
     "output_type": "execute_result"
    }
   ],
   "source": [
    "df.head()"
   ]
  },
  {
   "cell_type": "markdown",
   "id": "c8059f9c",
   "metadata": {},
   "source": [
    "## 2.3) Gráficos\n",
    "\n",
    "O gráfico abaixo representa o preço comparado entre todos os vendedores ao longo do período disponível, já conseguimos\n",
    "ter uma noção (em um contexto geral) do que pode ou não pode ser anomalia"
   ]
  },
  {
   "cell_type": "code",
   "execution_count": 49,
   "id": "eaf016f7",
   "metadata": {},
   "outputs": [
    {
     "data": {
      "image/png": "[encoded data removed]",
      "text/plain": [
       "<Figure size 432x288 with 1 Axes>"
      ]
     },
     "metadata": {
      "needs_background": "light"
     },
     "output_type": "display_data"
    }
   ],
   "source": [
    "colors = cm.rainbow(np.linspace(0, 1, len(df['id_seller'].unique())))\n",
    "\n",
    "\n",
    "for i,c in zip(df['id_seller'].unique(),colors):\n",
    "    df_aux = df[df['id_seller'] == i]\n",
    "    plt.plot(df_aux['data_inclusao_item'],df_aux['preco_unitario'], color = c, label = i)\n",
    "    plt.legend()"
   ]
  },
  {
   "cell_type": "markdown",
   "id": "b812de85",
   "metadata": {},
   "source": [
    "Os preços do vendedor 4 estão muito acima dos demais, estes são os valores máximos vistos na tabela descritiva (item 2)\n",
    "\n",
    "Nesse gráfico geral, percebemos que o vendedor 2 está presente em um período de tempo muito maior que os demais"
   ]
  },
  {
   "cell_type": "code",
   "execution_count": 50,
   "id": "489fb8af",
   "metadata": {},
   "outputs": [
    {
     "name": "stdout",
     "output_type": "stream",
     "text": [
      "id_seller\n",
      "vendedor1   2020-10-24\n",
      "vendedor2   2015-12-08\n",
      "vendedor3   2021-09-13\n",
      "vendedor4   2021-09-22\n",
      "vendedor5   2020-09-09\n",
      "vendedor6   2020-12-11\n",
      "vendedor7   2021-09-23\n",
      "vendedor8   2020-05-01\n",
      "vendedor9   2021-07-24\n",
      "Name: data_inclusao_item, dtype: datetime64[ns]\n",
      "id_seller\n",
      "vendedor1    11070\n",
      "vendedor2    11913\n",
      "vendedor3    13872\n",
      "vendedor4    13110\n",
      "vendedor5    14212\n",
      "vendedor6    13125\n",
      "vendedor7    14940\n",
      "vendedor8    12160\n",
      "vendedor9    13494\n",
      "dtype: int64\n"
     ]
    }
   ],
   "source": [
    "print(df.groupby(by = 'id_seller')['data_inclusao_item'].min())\n",
    "print(df.groupby(by = 'id_seller').size())\n",
    "\n",
    "#com exceção do vendedor 2, os outros vendedores publicaram esses produtos em torno de 2020/2021\n",
    "#a abordagem poderá filtrar esse período "
   ]
  },
  {
   "cell_type": "markdown",
   "id": "7c91c461",
   "metadata": {},
   "source": [
    "Os outros vendedores tem sua data mínima de produtos presente no período entre 2020 e 2021, enquanto o vendedor 2 apresenta período inicial em 2015, será algo a ser considerado futuramente"
   ]
  },
  {
   "cell_type": "code",
   "execution_count": 51,
   "id": "5649c9c4",
   "metadata": {},
   "outputs": [
    {
     "name": "stdout",
     "output_type": "stream",
     "text": [
      "id_seller\n",
      "vendedor1   2020-10-24\n",
      "vendedor2   2021-07-16\n",
      "vendedor3   2021-09-13\n",
      "vendedor4   2021-09-22\n",
      "vendedor5   2020-09-09\n",
      "vendedor6   2020-12-11\n",
      "vendedor7   2021-09-23\n",
      "vendedor8   2020-05-01\n",
      "vendedor9   2021-07-24\n",
      "Name: data_inclusao_item, dtype: datetime64[ns]\n",
      "id_seller\n",
      "vendedor1    11070\n",
      "vendedor2     9999\n",
      "vendedor3    13872\n",
      "vendedor4    13110\n",
      "vendedor5    14212\n",
      "vendedor6    13125\n",
      "vendedor7    14940\n",
      "vendedor8    12160\n",
      "vendedor9    13494\n",
      "dtype: int64\n"
     ]
    }
   ],
   "source": [
    "df_split = df[df['data_inclusao_item'] >= '2020-01-01']\n",
    "print(df_split.groupby(by = 'id_seller')['data_inclusao_item'].min())\n",
    "print(df_split.groupby(by = 'id_seller').size())\n",
    "\n",
    "#A perda de amostras não é tão significativa para o vendedor 2 em dados anteriores a 2020"
   ]
  },
  {
   "cell_type": "code",
   "execution_count": 29,
   "id": "940643b2",
   "metadata": {},
   "outputs": [
    {
     "data": {
      "image/png": "[encoded data removed]",
      "text/plain": [
       "<Figure size 432x288 with 1 Axes>"
      ]
     },
     "metadata": {
      "needs_background": "light"
     },
     "output_type": "display_data"
    }
   ],
   "source": [
    "#Histograma de frequencia\n",
    "fig3 = plt.hist(df['preco_unitario'], bins = 20)\n",
    "\n",
    "#O preço mais frequente publicado está em torno de 200 reais"
   ]
  },
  {
   "cell_type": "markdown",
   "id": "ac44eaec",
   "metadata": {},
   "source": [
    "### Relação Frequência x Dia da Semana"
   ]
  },
  {
   "cell_type": "code",
   "execution_count": 43,
   "id": "833f1012",
   "metadata": {},
   "outputs": [
    {
     "data": {
      "image/png": "[encoded data removed]",
      "text/plain": [
       "<Figure size 432x288 with 1 Axes>"
      ]
     },
     "metadata": {
      "needs_background": "light"
     },
     "output_type": "display_data"
    }
   ],
   "source": [
    "#Histograma de frequencia\n",
    "fig4 = plt.hist(df['day_of_the_week'], bins = 10)"
   ]
  },
  {
   "cell_type": "markdown",
   "id": "065c5b88",
   "metadata": {},
   "source": [
    "Aparentemente, o número de vendas é mais frequente na quinta e na sexta-feira. Pode afetar na precificação?"
   ]
  },
  {
   "cell_type": "markdown",
   "id": "902533e6",
   "metadata": {},
   "source": [
    "# 3) Aplicando a Abordagem Kmeans\n",
    "\n",
    "Através da curva de elbow, vamos descobrir qual valor de k é mais explicativo para nosso modelo "
   ]
  },
  {
   "cell_type": "code",
   "execution_count": 44,
   "id": "cf55a86b",
   "metadata": {},
   "outputs": [
    {
     "data": {
      "image/png": "[encoded data removed]",
      "text/plain": [
       "<Figure size 720x432 with 1 Axes>"
      ]
     },
     "metadata": {
      "needs_background": "light"
     },
     "output_type": "display_data"
    }
   ],
   "source": [
    "df1 = df[df['data_inclusao_item'] >= '2020-01-01']\n",
    "\n",
    "data2 = df1[['preco_unitario', 'day_of_the_week', 'Month' , 'feriados']]\n",
    "data2 = pd.get_dummies(data2, columns = ['day_of_the_week', 'Month', 'feriados'])\n",
    "data2.head()\n",
    "\n",
    "n_cluster = range(1, 20)\n",
    "kmeans = [KMeans(n_clusters=i).fit(data2) for i in n_cluster]\n",
    "scores = [kmeans[i].score(data2) for i in range(len(kmeans))]\n",
    "\n",
    "fig, ax = plt.subplots(figsize=(10,6))\n",
    "ax.plot(n_cluster, scores)\n",
    "plt.xlabel('Number of Clusters')\n",
    "plt.ylabel('Score')\n",
    "plt.title('Elbow Curve')\n",
    "plt.show()\n",
    "\n",
    "#k_ideal = 3"
   ]
  },
  {
   "cell_type": "markdown",
   "id": "435359df",
   "metadata": {},
   "source": [
    "## 3.1) Abordagem Geral\n",
    "\n",
    "Considerando todo o período disponível, utilizaremos nessa etapa apenas o preço unitário como variável para \n",
    "detectar as anomalias"
   ]
  },
  {
   "cell_type": "code",
   "execution_count": 92,
   "id": "428591c2",
   "metadata": {},
   "outputs": [
    {
     "data": {
      "image/png": "[encoded data removed]",
      "text/plain": [
       "<Figure size 432x288 with 1 Axes>"
      ]
     },
     "metadata": {
      "needs_background": "light"
     },
     "output_type": "display_data"
    }
   ],
   "source": [
    "data = df[['preco_unitario']]\n",
    "\n",
    "km = KMeans(n_clusters = 3)\n",
    "km.fit(data)\n",
    "y_km = km.predict(data)\n",
    "\n",
    "data['Anomaly'] = y_km\n",
    "data['Anomaly'] = data['Anomaly'].astype(str)\n",
    "\n",
    "data['Date'] = df['data_inclusao_item']\n",
    "data['Vendedor'] = df['id_seller']\n",
    "data.head()\n",
    "\n",
    "\n",
    "colors = cm.rainbow(np.linspace(0, 1, len(data['Anomaly'].unique())))\n",
    "\n",
    "for i,c in zip(data['Anomaly'].unique(),colors):\n",
    "    df_aux = data[data['Anomaly'] == i]\n",
    "    plt.scatter(df_aux['Date'], df_aux['preco_unitario'], color = c, label = i)\n",
    "    plt.legend()"
   ]
  },
  {
   "cell_type": "code",
   "execution_count": 56,
   "id": "71552108",
   "metadata": {},
   "outputs": [
    {
     "data": {
      "image/png": "[encoded data removed]",
      "text/plain": [
       "<Figure size 432x288 with 1 Axes>"
      ]
     },
     "metadata": {
      "needs_background": "light"
     },
     "output_type": "display_data"
    }
   ],
   "source": [
    "fig = plt.hist(data['Anomaly'], bins = 5)"
   ]
  },
  {
   "cell_type": "markdown",
   "id": "173082ca",
   "metadata": {},
   "source": [
    "## Abordagem 2)  - Filtrando os dados após 2020\n",
    "\n",
    "## Inserindo Dia da Semana, Mês, Feriados"
   ]
  },
  {
   "cell_type": "code",
   "execution_count": 67,
   "id": "2e4dadef",
   "metadata": {},
   "outputs": [
    {
     "data": {
      "image/png": "[encoded data removed]",
      "text/plain": [
       "<Figure size 432x288 with 1 Axes>"
      ]
     },
     "metadata": {
      "needs_background": "light"
     },
     "output_type": "display_data"
    }
   ],
   "source": [
    "#transformando variáveis categóricas\n",
    "\n",
    "df1 = df[df['data_inclusao_item'] >= '2020-01-01']\n",
    "\n",
    "data2 = df1[['preco_unitario', 'day_of_the_week', 'Month' , 'feriados']]\n",
    "data2 = pd.get_dummies(data2, columns = ['day_of_the_week', 'Month', 'feriados'])\n",
    "data2.head()\n",
    "\n",
    "\n",
    "km = KMeans(n_clusters = 3)\n",
    "km.fit(data2)\n",
    "y_km2 = km.predict(data2)\n",
    "\n",
    "data2['Anomaly'] = y_km2\n",
    "data2['Anomaly'] = data2['Anomaly'].astype(str)\n",
    "\n",
    "data2['Date'] = df1['data_inclusao_item']\n",
    "data2['Vendedor'] = df1['id_seller']\n",
    "\n",
    "\n",
    "colors = cm.rainbow(np.linspace(0, 1, len(data2['Anomaly'].unique())))\n",
    "\n",
    "for i,c in zip(data2['Anomaly'].unique(),colors):\n",
    "    df_aux = data2[data2['Anomaly'] == i]\n",
    "    plt.scatter(df_aux['Date'], df_aux['preco_unitario'], color = c, label = i)\n",
    "    plt.legend()"
   ]
  },
  {
   "cell_type": "markdown",
   "id": "4a8c4b70",
   "metadata": {},
   "source": [
    "## Teste de Comparação Múltipla de Médias \n",
    "\n",
    "Agora, como próximo passo, precisaremos utilizar um teste de comparação múltipla de médias\n",
    "para ver se as médias possuem diferenças estatísticamente significativas, para isso, utilizaremos o teste de tukey comparando em nossos 3 grupos de anomalias (0,1,2). Antes, precisamos conferir se os dados assumem as pressuposições básicas (Normalidade e Homogeneidade de Variância)"
   ]
  },
  {
   "cell_type": "code",
   "execution_count": 68,
   "id": "723e3d4b",
   "metadata": {},
   "outputs": [
    {
     "name": "stdout",
     "output_type": "stream",
     "text": [
      "ShapiroResult(statistic=0.9376081228256226, pvalue=0.0)\n",
      "ShapiroResult(statistic=0.755314826965332, pvalue=0.0)\n",
      "ShapiroResult(statistic=0.9219351410865784, pvalue=0.0)\n",
      "F_onewayResult(statistic=1569808.9618476592, pvalue=0.0)\n",
      "  Multiple Comparison of Means - Tukey HSD, FWER=0.05   \n",
      "========================================================\n",
      "group1 group2  meandiff p-adj   lower     upper   reject\n",
      "--------------------------------------------------------\n",
      "     0      1 1032.6749 0.001 1031.2935 1034.0562   True\n",
      "     0      2  115.3742 0.001   114.738  116.0104   True\n",
      "     1      2 -917.3007 0.001 -918.7669 -915.8345   True\n",
      "--------------------------------------------------------\n"
     ]
    }
   ],
   "source": [
    "from scipy.stats import f_oneway\n",
    "from statsmodels.stats.multicomp import pairwise_tukeyhsd\n",
    "from scipy.stats import shapiro\n",
    "\n",
    "####### Iremos Calcular a Normalidade dentro dos Grupos\n",
    "\n",
    "zero = data2[data2['Anomaly'] == '0']['preco_unitario']\n",
    "um = data2[data2['Anomaly'] == '1']['preco_unitario']\n",
    "dois = data2[data2['Anomaly'] == '2']['preco_unitario']\n",
    "\n",
    "\n",
    "print(shapiro(zero))\n",
    "print(shapiro(um))\n",
    "print(shapiro(dois))\n",
    "\n",
    "\n",
    "print(f_oneway(zero, um, dois))\n",
    "\n",
    "tukey = pairwise_tukeyhsd(endog=data2['preco_unitario'],\n",
    "                          groups=data2['Anomaly'],\n",
    "                          alpha=0.05)\n",
    "\n",
    "#display results\n",
    "print(tukey)"
   ]
  },
  {
   "cell_type": "code",
   "execution_count": 69,
   "id": "57b11a22",
   "metadata": {},
   "outputs": [
    {
     "data": {
      "image/png": "[encoded data removed]",
      "text/plain": [
       "<Figure size 432x288 with 1 Axes>"
      ]
     },
     "metadata": {
      "needs_background": "light"
     },
     "output_type": "display_data"
    }
   ],
   "source": [
    "fig = plt.hist(data2['Anomaly'], bins = 5)"
   ]
  },
  {
   "cell_type": "markdown",
   "id": "fd6fc2a2",
   "metadata": {},
   "source": [
    "# Análise IntraVendedores\n",
    "\n",
    "Como estamos usando 3 clusters em nosso modelo, é mais difícil identificar onde a anomalia está presente dependendo do vendedor, então abaixo do nosso gráfico, plotaremos um histograma de frequencia dos clusters apresentados [0,1,2], no qual consideraremos o cluster com maior frequência o preço \"normal\", e os restantes como anomalias.\n"
   ]
  },
  {
   "cell_type": "markdown",
   "id": "b5d7873e",
   "metadata": {},
   "source": [
    "## Vendedor 1"
   ]
  },
  {
   "cell_type": "code",
   "execution_count": 70,
   "id": "76024c17",
   "metadata": {},
   "outputs": [
    {
     "data": {
      "image/png": "[encoded data removed]",
      "text/plain": [
       "<Figure size 432x288 with 1 Axes>"
      ]
     },
     "metadata": {
      "needs_background": "light"
     },
     "output_type": "display_data"
    }
   ],
   "source": [
    "df1 = df[df['data_inclusao_item'] >= '2020-01-01']\n",
    "df1 = df1[df1['id_seller'] == 'vendedor1']\n",
    "\n",
    "\n",
    "data2 = df1[['preco_unitario', 'day_of_the_week', 'Month' , 'feriados']]\n",
    "data2 = pd.get_dummies(data2, columns = ['day_of_the_week', 'Month', 'feriados'])\n",
    "data2.head()\n",
    "\n",
    "\n",
    "km = KMeans(n_clusters = 3)\n",
    "km.fit(data2)\n",
    "y_km2 = km.predict(data2)\n",
    "\n",
    "data2['Anomaly'] = y_km2\n",
    "data2['Anomaly'] = data2['Anomaly'].astype(str)\n",
    "\n",
    "data2['Date'] = df1['data_inclusao_item']\n",
    "data2['Vendedor'] = df1['id_seller']\n",
    "\n",
    "\n",
    "colors = cm.rainbow(np.linspace(0, 1, len(data2['Anomaly'].unique())))\n",
    "\n",
    "for i,c in zip(data2['Anomaly'].unique(),colors):\n",
    "    df_aux = data2[data2['Anomaly'] == i]\n",
    "    plt.scatter(df_aux['Date'], df_aux['preco_unitario'], color = c, label = i)\n",
    "    plt.legend()"
   ]
  },
  {
   "cell_type": "code",
   "execution_count": 71,
   "id": "009e4a9f",
   "metadata": {},
   "outputs": [
    {
     "data": {
      "image/png": "[encoded data removed]",
      "text/plain": [
       "<Figure size 432x288 with 1 Axes>"
      ]
     },
     "metadata": {
      "needs_background": "light"
     },
     "output_type": "display_data"
    }
   ],
   "source": [
    "fig = plt.hist(data2['Anomaly'], bins = 5)"
   ]
  },
  {
   "cell_type": "markdown",
   "id": "a5ea58d4",
   "metadata": {},
   "source": [
    "## Vendedor 2"
   ]
  },
  {
   "cell_type": "code",
   "execution_count": 72,
   "id": "f28d51f2",
   "metadata": {},
   "outputs": [
    {
     "data": {
      "image/png": "[encoded data removed]",
      "text/plain": [
       "<Figure size 432x288 with 1 Axes>"
      ]
     },
     "metadata": {
      "needs_background": "light"
     },
     "output_type": "display_data"
    }
   ],
   "source": [
    "df1 = df[df['data_inclusao_item'] >= '2020-01-01']\n",
    "df1 = df1[df1['id_seller'] == 'vendedor2']\n",
    "\n",
    "\n",
    "data2 = df1[['preco_unitario', 'day_of_the_week', 'Month' , 'feriados']]\n",
    "data2 = pd.get_dummies(data2, columns = ['day_of_the_week', 'Month', 'feriados'])\n",
    "data2.head()\n",
    "\n",
    "\n",
    "km = KMeans(n_clusters = 3)\n",
    "km.fit(data2)\n",
    "y_km2 = km.predict(data2)\n",
    "\n",
    "data2['Anomaly'] = y_km2\n",
    "data2['Anomaly'] = data2['Anomaly'].astype(str)\n",
    "\n",
    "data2['Date'] = df1['data_inclusao_item']\n",
    "data2['Vendedor'] = df1['id_seller']\n",
    "\n",
    "\n",
    "colors = cm.rainbow(np.linspace(0, 1, len(data2['Anomaly'].unique())))\n",
    "\n",
    "for i,c in zip(data2['Anomaly'].unique(),colors):\n",
    "    df_aux = data2[data2['Anomaly'] == i]\n",
    "    plt.scatter(df_aux['Date'], df_aux['preco_unitario'], color = c, label = i)\n",
    "    plt.legend()"
   ]
  },
  {
   "cell_type": "code",
   "execution_count": 73,
   "id": "a4a87fe4",
   "metadata": {},
   "outputs": [
    {
     "data": {
      "image/png": "[encoded data removed]",
      "text/plain": [
       "<Figure size 432x288 with 1 Axes>"
      ]
     },
     "metadata": {
      "needs_background": "light"
     },
     "output_type": "display_data"
    }
   ],
   "source": [
    "fig = plt.hist(data2['Anomaly'], bins = 5)"
   ]
  },
  {
   "cell_type": "markdown",
   "id": "84036188",
   "metadata": {},
   "source": [
    "## Vendedor 3"
   ]
  },
  {
   "cell_type": "code",
   "execution_count": 74,
   "id": "6ed3ab11",
   "metadata": {},
   "outputs": [
    {
     "data": {
      "image/png": "[encoded data removed]",
      "text/plain": [
       "<Figure size 432x288 with 1 Axes>"
      ]
     },
     "metadata": {
      "needs_background": "light"
     },
     "output_type": "display_data"
    }
   ],
   "source": [
    "df1 = df[df['data_inclusao_item'] >= '2020-01-01']\n",
    "df1 = df1[df1['id_seller'] == 'vendedor3']\n",
    "\n",
    "\n",
    "data2 = df1[['preco_unitario', 'day_of_the_week', 'Month' , 'feriados']]\n",
    "data2 = pd.get_dummies(data2, columns = ['day_of_the_week', 'Month', 'feriados'])\n",
    "data2.head()\n",
    "\n",
    "\n",
    "km = KMeans(n_clusters = 3)\n",
    "km.fit(data2)\n",
    "y_km2 = km.predict(data2)\n",
    "\n",
    "data2['Anomaly'] = y_km2\n",
    "data2['Anomaly'] = data2['Anomaly'].astype(str)\n",
    "\n",
    "data2['Date'] = df1['data_inclusao_item']\n",
    "data2['Vendedor'] = df1['id_seller']\n",
    "\n",
    "\n",
    "colors = cm.rainbow(np.linspace(0, 1, len(data2['Anomaly'].unique())))\n",
    "\n",
    "for i,c in zip(data2['Anomaly'].unique(),colors):\n",
    "    df_aux = data2[data2['Anomaly'] == i]\n",
    "    plt.scatter(df_aux['Date'], df_aux['preco_unitario'], color = c, label = i)\n",
    "    plt.legend()"
   ]
  },
  {
   "cell_type": "code",
   "execution_count": 75,
   "id": "8c58632f",
   "metadata": {},
   "outputs": [
    {
     "data": {
      "image/png": "[encoded data removed]",
      "text/plain": [
       "<Figure size 432x288 with 1 Axes>"
      ]
     },
     "metadata": {
      "needs_background": "light"
     },
     "output_type": "display_data"
    }
   ],
   "source": [
    "fig = plt.hist(data2['Anomaly'], bins = 5)"
   ]
  },
  {
   "cell_type": "markdown",
   "id": "42ceb54c",
   "metadata": {},
   "source": [
    "## Vendedor 4"
   ]
  },
  {
   "cell_type": "code",
   "execution_count": 76,
   "id": "0fa08bbd",
   "metadata": {},
   "outputs": [
    {
     "data": {
      "image/png": "[encoded data removed]",
      "text/plain": [
       "<Figure size 432x288 with 1 Axes>"
      ]
     },
     "metadata": {
      "needs_background": "light"
     },
     "output_type": "display_data"
    }
   ],
   "source": [
    "df1 = df[df['data_inclusao_item'] >= '2020-01-01']\n",
    "df1 = df1[df1['id_seller'] == 'vendedor4']\n",
    "\n",
    "\n",
    "data2 = df1[['preco_unitario', 'day_of_the_week', 'Month' , 'feriados']]\n",
    "data2 = pd.get_dummies(data2, columns = ['day_of_the_week', 'Month', 'feriados'])\n",
    "data2.head()\n",
    "\n",
    "\n",
    "km = KMeans(n_clusters = 3)\n",
    "km.fit(data2)\n",
    "y_km2 = km.predict(data2)\n",
    "\n",
    "data2['Anomaly'] = y_km2\n",
    "data2['Anomaly'] = data2['Anomaly'].astype(str)\n",
    "\n",
    "data2['Date'] = df1['data_inclusao_item']\n",
    "data2['Vendedor'] = df1['id_seller']\n",
    "\n",
    "\n",
    "colors = cm.rainbow(np.linspace(0, 1, len(data2['Anomaly'].unique())))\n",
    "\n",
    "for i,c in zip(data2['Anomaly'].unique(),colors):\n",
    "    df_aux = data2[data2['Anomaly'] == i]\n",
    "    plt.scatter(df_aux['Date'], df_aux['preco_unitario'], color = c, label = i)\n",
    "    plt.legend()"
   ]
  },
  {
   "cell_type": "code",
   "execution_count": 77,
   "id": "54fce711",
   "metadata": {},
   "outputs": [
    {
     "data": {
      "image/png": "[encoded data removed]",
      "text/plain": [
       "<Figure size 432x288 with 1 Axes>"
      ]
     },
     "metadata": {
      "needs_background": "light"
     },
     "output_type": "display_data"
    }
   ],
   "source": [
    "fig = plt.hist(data2['Anomaly'], bins = 5)"
   ]
  },
  {
   "cell_type": "markdown",
   "id": "d0aaeec4",
   "metadata": {},
   "source": [
    "## Vendedor 5"
   ]
  },
  {
   "cell_type": "code",
   "execution_count": 78,
   "id": "4bf837f1",
   "metadata": {},
   "outputs": [
    {
     "data": {
      "image/png": "[encoded data removed]",
      "text/plain": [
       "<Figure size 432x288 with 1 Axes>"
      ]
     },
     "metadata": {
      "needs_background": "light"
     },
     "output_type": "display_data"
    }
   ],
   "source": [
    "df1 = df[df['data_inclusao_item'] >= '2020-01-01']\n",
    "df1 = df1[df1['id_seller'] == 'vendedor5']\n",
    "\n",
    "\n",
    "data2 = df1[['preco_unitario', 'day_of_the_week', 'Month' , 'feriados']]\n",
    "data2 = pd.get_dummies(data2, columns = ['day_of_the_week', 'Month', 'feriados'])\n",
    "data2.head()\n",
    "\n",
    "\n",
    "km = KMeans(n_clusters = 3)\n",
    "km.fit(data2)\n",
    "y_km2 = km.predict(data2)\n",
    "\n",
    "data2['Anomaly'] = y_km2\n",
    "data2['Anomaly'] = data2['Anomaly'].astype(str)\n",
    "\n",
    "data2['Date'] = df1['data_inclusao_item']\n",
    "data2['Vendedor'] = df1['id_seller']\n",
    "\n",
    "\n",
    "colors = cm.rainbow(np.linspace(0, 1, len(data2['Anomaly'].unique())))\n",
    "\n",
    "for i,c in zip(data2['Anomaly'].unique(),colors):\n",
    "    df_aux = data2[data2['Anomaly'] == i]\n",
    "    plt.scatter(df_aux['Date'], df_aux['preco_unitario'], color = c, label = i)\n",
    "    plt.legend()"
   ]
  },
  {
   "cell_type": "code",
   "execution_count": 80,
   "id": "bb1722d0",
   "metadata": {},
   "outputs": [
    {
     "data": {
      "image/png": "[encoded data removed]",
      "text/plain": [
       "<Figure size 432x288 with 1 Axes>"
      ]
     },
     "metadata": {
      "needs_background": "light"
     },
     "output_type": "display_data"
    }
   ],
   "source": [
    "fig = plt.hist(data2['Anomaly'], bins = 5)"
   ]
  },
  {
   "cell_type": "markdown",
   "id": "66e27c2c",
   "metadata": {},
   "source": [
    "## Vendedor 6"
   ]
  },
  {
   "cell_type": "code",
   "execution_count": 81,
   "id": "23ec1b5c",
   "metadata": {},
   "outputs": [
    {
     "data": {
      "image/png": "[encoded data removed]",
      "text/plain": [
       "<Figure size 432x288 with 1 Axes>"
      ]
     },
     "metadata": {
      "needs_background": "light"
     },
     "output_type": "display_data"
    }
   ],
   "source": [
    "df1 = df[df['data_inclusao_item'] >= '2020-01-01']\n",
    "df1 = df1[df1['id_seller'] == 'vendedor6']\n",
    "\n",
    "\n",
    "data2 = df1[['preco_unitario', 'day_of_the_week', 'Month' , 'feriados']]\n",
    "data2 = pd.get_dummies(data2, columns = ['day_of_the_week', 'Month', 'feriados'])\n",
    "data2.head()\n",
    "\n",
    "\n",
    "km = KMeans(n_clusters = 3)\n",
    "km.fit(data2)\n",
    "y_km2 = km.predict(data2)\n",
    "\n",
    "data2['Anomaly'] = y_km2\n",
    "data2['Anomaly'] = data2['Anomaly'].astype(str)\n",
    "\n",
    "data2['Date'] = df1['data_inclusao_item']\n",
    "data2['Vendedor'] = df1['id_seller']\n",
    "\n",
    "\n",
    "colors = cm.rainbow(np.linspace(0, 1, len(data2['Anomaly'].unique())))\n",
    "\n",
    "for i,c in zip(data2['Anomaly'].unique(),colors):\n",
    "    df_aux = data2[data2['Anomaly'] == i]\n",
    "    plt.scatter(df_aux['Date'], df_aux['preco_unitario'], color = c, label = i)\n",
    "    plt.legend()"
   ]
  },
  {
   "cell_type": "code",
   "execution_count": 82,
   "id": "028d20c1",
   "metadata": {},
   "outputs": [
    {
     "data": {
      "image/png": "[encoded data removed]",
      "text/plain": [
       "<Figure size 432x288 with 1 Axes>"
      ]
     },
     "metadata": {
      "needs_background": "light"
     },
     "output_type": "display_data"
    }
   ],
   "source": [
    "fig = plt.hist(data2['Anomaly'], bins = 5)"
   ]
  },
  {
   "cell_type": "markdown",
   "id": "69eff1e3",
   "metadata": {},
   "source": [
    "## Vendedor 7"
   ]
  },
  {
   "cell_type": "code",
   "execution_count": 83,
   "id": "c409c5fb",
   "metadata": {},
   "outputs": [
    {
     "data": {
      "image/png": "[encoded data removed]",
      "text/plain": [
       "<Figure size 432x288 with 1 Axes>"
      ]
     },
     "metadata": {
      "needs_background": "light"
     },
     "output_type": "display_data"
    }
   ],
   "source": [
    "df1 = df[df['data_inclusao_item'] >= '2020-01-01']\n",
    "df1 = df1[df1['id_seller'] == 'vendedor7']\n",
    "\n",
    "\n",
    "data2 = df1[['preco_unitario', 'day_of_the_week', 'Month' , 'feriados']]\n",
    "data2 = pd.get_dummies(data2, columns = ['day_of_the_week', 'Month', 'feriados'])\n",
    "data2.head()\n",
    "\n",
    "\n",
    "km = KMeans(n_clusters = 3)\n",
    "km.fit(data2)\n",
    "y_km2 = km.predict(data2)\n",
    "\n",
    "data2['Anomaly'] = y_km2\n",
    "data2['Anomaly'] = data2['Anomaly'].astype(str)\n",
    "\n",
    "data2['Date'] = df1['data_inclusao_item']\n",
    "data2['Vendedor'] = df1['id_seller']\n",
    "\n",
    "\n",
    "colors = cm.rainbow(np.linspace(0, 1, len(data2['Anomaly'].unique())))\n",
    "\n",
    "for i,c in zip(data2['Anomaly'].unique(),colors):\n",
    "    df_aux = data2[data2['Anomaly'] == i]\n",
    "    plt.scatter(df_aux['Date'], df_aux['preco_unitario'], color = c, label = i)\n",
    "    plt.legend()"
   ]
  },
  {
   "cell_type": "code",
   "execution_count": 84,
   "id": "303573c6",
   "metadata": {},
   "outputs": [
    {
     "data": {
      "image/png": "[encoded data removed]",
      "text/plain": [
       "<Figure size 432x288 with 1 Axes>"
      ]
     },
     "metadata": {
      "needs_background": "light"
     },
     "output_type": "display_data"
    }
   ],
   "source": [
    "fig = plt.hist(data2['Anomaly'], bins = 5)"
   ]
  },
  {
   "cell_type": "markdown",
   "id": "1b595b08",
   "metadata": {},
   "source": [
    "## Vendedor 8"
   ]
  },
  {
   "cell_type": "code",
   "execution_count": 85,
   "id": "9e35c061",
   "metadata": {},
   "outputs": [
    {
     "data": {
      "image/png": "[encoded data removed]",
      "text/plain": [
       "<Figure size 432x288 with 1 Axes>"
      ]
     },
     "metadata": {
      "needs_background": "light"
     },
     "output_type": "display_data"
    }
   ],
   "source": [
    "df1 = df[df['data_inclusao_item'] >= '2020-01-01']\n",
    "df1 = df1[df1['id_seller'] == 'vendedor8']\n",
    "\n",
    "\n",
    "data2 = df1[['preco_unitario', 'day_of_the_week', 'Month' , 'feriados']]\n",
    "data2 = pd.get_dummies(data2, columns = ['day_of_the_week', 'Month', 'feriados'])\n",
    "data2.head()\n",
    "\n",
    "\n",
    "km = KMeans(n_clusters = 3)\n",
    "km.fit(data2)\n",
    "y_km2 = km.predict(data2)\n",
    "\n",
    "data2['Anomaly'] = y_km2\n",
    "data2['Anomaly'] = data2['Anomaly'].astype(str)\n",
    "\n",
    "data2['Date'] = df1['data_inclusao_item']\n",
    "data2['Vendedor'] = df1['id_seller']\n",
    "\n",
    "\n",
    "colors = cm.rainbow(np.linspace(0, 1, len(data2['Anomaly'].unique())))\n",
    "\n",
    "for i,c in zip(data2['Anomaly'].unique(),colors):\n",
    "    df_aux = data2[data2['Anomaly'] == i]\n",
    "    plt.scatter(df_aux['Date'], df_aux['preco_unitario'], color = c, label = i)\n",
    "    plt.legend()"
   ]
  },
  {
   "cell_type": "code",
   "execution_count": 86,
   "id": "41b9144d",
   "metadata": {},
   "outputs": [
    {
     "data": {
      "image/png": "[encoded data removed]",
      "text/plain": [
       "<Figure size 432x288 with 1 Axes>"
      ]
     },
     "metadata": {
      "needs_background": "light"
     },
     "output_type": "display_data"
    }
   ],
   "source": [
    "fig = plt.hist(data2['Anomaly'], bins = 5)"
   ]
  },
  {
   "cell_type": "markdown",
   "id": "3255682b",
   "metadata": {},
   "source": [
    "##  Vendedor 9"
   ]
  },
  {
   "cell_type": "code",
   "execution_count": 87,
   "id": "cba44149",
   "metadata": {},
   "outputs": [
    {
     "data": {
      "image/png": "[encoded data removed]",
      "text/plain": [
       "<Figure size 432x288 with 1 Axes>"
      ]
     },
     "metadata": {
      "needs_background": "light"
     },
     "output_type": "display_data"
    }
   ],
   "source": [
    "df1 = df[df['data_inclusao_item'] >= '2020-01-01']\n",
    "df1 = df1[df1['id_seller'] == 'vendedor9']\n",
    "\n",
    "\n",
    "data2 = df1[['preco_unitario', 'day_of_the_week', 'Month' , 'feriados']]\n",
    "data2 = pd.get_dummies(data2, columns = ['day_of_the_week', 'Month', 'feriados'])\n",
    "data2.head()\n",
    "\n",
    "\n",
    "km = KMeans(n_clusters = 3)\n",
    "km.fit(data2)\n",
    "y_km2 = km.predict(data2)\n",
    "\n",
    "data2['Anomaly'] = y_km2\n",
    "data2['Anomaly'] = data2['Anomaly'].astype(str)\n",
    "\n",
    "data2['Date'] = df1['data_inclusao_item']\n",
    "data2['Vendedor'] = df1['id_seller']\n",
    "\n",
    "\n",
    "colors = cm.rainbow(np.linspace(0, 1, len(data2['Anomaly'].unique())))\n",
    "\n",
    "for i,c in zip(data2['Anomaly'].unique(),colors):\n",
    "    df_aux = data2[data2['Anomaly'] == i]\n",
    "    plt.scatter(df_aux['Date'], df_aux['preco_unitario'], color = c, label = i)\n",
    "    plt.legend()"
   ]
  },
  {
   "cell_type": "code",
   "execution_count": 88,
   "id": "e64077e8",
   "metadata": {},
   "outputs": [
    {
     "data": {
      "image/png": "[encoded data removed]",
      "text/plain": [
       "<Figure size 432x288 with 1 Axes>"
      ]
     },
     "metadata": {
      "needs_background": "light"
     },
     "output_type": "display_data"
    }
   ],
   "source": [
    "fig = plt.hist(data2['Anomaly'], bins = 5)"
   ]
  }
 ],
 "metadata": {
  "kernelspec": {
   "display_name": "Python 3 (ipykernel)",
   "language": "python",
   "name": "python3"
  },
  "language_info": {
   "codemirror_mode": {
    "name": "ipython",
    "version": 3
   },
   "file_extension": ".py",
   "mimetype": "text/x-python",
   "name": "python",
   "nbconvert_exporter": "python",
   "pygments_lexer": "ipython3",
   "version": "3.9.7"
  }
 },
 "nbformat": 4,
 "nbformat_minor": 5
}
